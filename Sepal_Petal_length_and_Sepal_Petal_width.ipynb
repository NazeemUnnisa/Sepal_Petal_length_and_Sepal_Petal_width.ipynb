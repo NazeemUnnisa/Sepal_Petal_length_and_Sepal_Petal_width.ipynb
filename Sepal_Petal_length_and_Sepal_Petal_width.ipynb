{
  "nbformat": 4,
  "nbformat_minor": 0,
  "metadata": {
    "colab": {
      "name": "Sepal/Petal length and Sepal/Petal width",
      "provenance": [],
      "collapsed_sections": [],
      "authorship_tag": "ABX9TyOrB2Lu2CNVDuke0yhmf8uy",
      "include_colab_link": true
    },
    "kernelspec": {
      "name": "python3",
      "display_name": "Python 3"
    },
    "language_info": {
      "name": "python"
    }
  },
  "cells": [
    {
      "cell_type": "markdown",
      "metadata": {
        "id": "view-in-github",
        "colab_type": "text"
      },
      "source": [
        "<a href=\"https://colab.research.google.com/github/NazeemUnnisa/Sepal_Petal_length_and_Sepal_Petal_width.ipynb/blob/main/Sepal_Petal_length_and_Sepal_Petal_width.ipynb\" target=\"_parent\"><img src=\"https://colab.research.google.com/assets/colab-badge.svg\" alt=\"Open In Colab\"/></a>"
      ]
    },
    {
      "cell_type": "code",
      "execution_count": null,
      "metadata": {
        "id": "ZK5WUGpN57Zj"
      },
      "outputs": [],
      "source": [
        "import pandas as pd\n",
        "\n",
        "data = pd.read_csv('http://archive.ics.uci.edu/ml/machine-learning-databases/iris/iris.data',header=None)\n",
        "data.columns = ['sepal length', 'sepal width', 'petal length', 'petal width', 'class']\n",
        "\n",
        "data.head()\n"
      ]
    },
    {
      "cell_type": "code",
      "source": [
        "from pandas.api.types import is_numeric_dtype\n",
        "\n",
        "for col in data.columns:\n",
        "    if is_numeric_dtype(data[col]):\n",
        "        print('%s:' % (col))\n",
        "        print('\\t Mean = %.2f' % data[col].mean())\n",
        "        print('\\t Standard deviation = %.2f' % data[col].std())\n",
        "        print('\\t Minimum = %.2f' % data[col].min())\n",
        "        print('\\t Maximum = %.2f' % data[col].max())"
      ],
      "metadata": {
        "id": "D6n4dX_H6ExB"
      },
      "execution_count": null,
      "outputs": []
    },
    {
      "cell_type": "code",
      "source": [
        "data['class'].value_counts()"
      ],
      "metadata": {
        "id": "2D745Ni56IRg"
      },
      "execution_count": null,
      "outputs": []
    },
    {
      "cell_type": "code",
      "source": [
        "data.describe(include='all')"
      ],
      "metadata": {
        "id": "l9sqqfog6MaQ"
      },
      "execution_count": null,
      "outputs": []
    },
    {
      "cell_type": "code",
      "source": [
        "print('Covariance:')\n",
        "data.cov()"
      ],
      "metadata": {
        "id": "IgGBpyxj6Mho"
      },
      "execution_count": null,
      "outputs": []
    },
    {
      "cell_type": "code",
      "source": [
        "print('Correlation:')\n",
        "data.corr()"
      ],
      "metadata": {
        "id": "VVrLMlS16PTQ"
      },
      "execution_count": null,
      "outputs": []
    },
    {
      "cell_type": "code",
      "source": [
        "%matplotlib inline\n",
        "\n",
        "data['sepal length'].hist(bins=8)"
      ],
      "metadata": {
        "id": "v4LB1KPW6Ryo"
      },
      "execution_count": null,
      "outputs": []
    },
    {
      "cell_type": "code",
      "source": [
        "data.boxplot()"
      ],
      "metadata": {
        "id": "9ysUo08_6VNo"
      },
      "execution_count": null,
      "outputs": []
    },
    {
      "cell_type": "code",
      "source": [
        "import matplotlib.pyplot as plt\n",
        "\n",
        "fig, axes = plt.subplots(3, 2, figsize=(12,12))\n",
        "index = 0\n",
        "for i in range(3):\n",
        "    for j in range(i+1,4):\n",
        "        ax1 = int(index/2)\n",
        "        ax2 = index % 2\n",
        "        axes[ax1][ax2].scatter(data[data.columns[i]], data[data.columns[j]], color='red')\n",
        "        axes[ax1][ax2].set_xlabel(data.columns[i])\n",
        "        axes[ax1][ax2].set_ylabel(data.columns[j])\n",
        "        index = index + 1"
      ],
      "metadata": {
        "id": "EbLM1J2r6V_o"
      },
      "execution_count": null,
      "outputs": []
    },
    {
      "cell_type": "code",
      "source": [
        "from pandas.plotting import parallel_coordinates\n",
        "%matplotlib inline\n",
        "\n",
        "parallel_coordinates(data, 'class')"
      ],
      "metadata": {
        "id": "alMeNdz06aVg"
      },
      "execution_count": null,
      "outputs": []
    }
  ]
}